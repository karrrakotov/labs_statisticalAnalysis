{
 "cells": [
  {
   "cell_type": "markdown",
   "id": "7b00163e-4122-4c59-bca1-4533bbba19b9",
   "metadata": {},
   "source": [
    "# Лабораторная работа 1."
   ]
  },
  {
   "cell_type": "markdown",
   "id": "f61c3609-ccc9-4a09-912a-29167ef93855",
   "metadata": {},
   "source": [
    "## Введение в вероятностные методы анализа данных. Числовые характеристики выборки."
   ]
  },
  {
   "cell_type": "code",
   "execution_count": 10,
   "id": "dcc09e84-d678-4918-adc8-a894fb522c6b",
   "metadata": {},
   "outputs": [],
   "source": [
    "import numpy as np"
   ]
  },
  {
   "cell_type": "code",
   "execution_count": 11,
   "id": "2582f070-7a30-4d65-b7d0-97149905c721",
   "metadata": {},
   "outputs": [
    {
     "name": "stdout",
     "output_type": "stream",
     "text": [
      "Средний возраст: 47.5\n",
      "Дисперсия возраста: 206.25\n",
      "Стандартное отклонение возраста: 14.361406616345072\n",
      "Медиана возраста: 47.5\n"
     ]
    }
   ],
   "source": [
    "# Предположим, у нас есть массив возрастов\n",
    "ages = np.array([25, 30, 35, 40, 45, 50, 55, 60, 65, 70])\n",
    "\n",
    "# Вычислим основные характеристики\n",
    "mean_age = np.mean(ages)\n",
    "variance_age = np.var(ages)\n",
    "std_dev_age = np.std(ages)\n",
    "median_age = np.median(ages)\n",
    "\n",
    "# Выведем результаты\n",
    "print(f\"Средний возраст: {mean_age}\")\n",
    "print(f\"Дисперсия возраста: {variance_age}\")\n",
    "print(f\"Стандартное отклонение возраста: {std_dev_age}\")\n",
    "print(f\"Медиана возраста: {median_age}\")"
   ]
  }
 ],
 "metadata": {
  "kernelspec": {
   "display_name": "Python 3 (ipykernel)",
   "language": "python",
   "name": "python3"
  },
  "language_info": {
   "codemirror_mode": {
    "name": "ipython",
    "version": 3
   },
   "file_extension": ".py",
   "mimetype": "text/x-python",
   "name": "python",
   "nbconvert_exporter": "python",
   "pygments_lexer": "ipython3",
   "version": "3.10.12"
  }
 },
 "nbformat": 4,
 "nbformat_minor": 5
}
