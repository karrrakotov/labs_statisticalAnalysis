{
  "metadata": {
    "language_info": {
      "codemirror_mode": {
        "name": "python",
        "version": 3
      },
      "file_extension": ".py",
      "mimetype": "text/x-python",
      "name": "python",
      "nbconvert_exporter": "python",
      "pygments_lexer": "ipython3",
      "version": "3.8"
    },
    "kernelspec": {
      "name": "python",
      "display_name": "Python (Pyodide)",
      "language": "python"
    }
  },
  "nbformat_minor": 4,
  "nbformat": 4,
  "cells": [
    {
      "cell_type": "markdown",
      "source": "# Лабораторная работа 6\n## Анализ влияния факторов",
      "metadata": {}
    },
    {
      "cell_type": "code",
      "source": "import numpy as np\nfrom scipy.stats import kruskal\n\n# Заданные выборки\nX = np.array([100, 129, 205, 134, 0, 130, 156, 130, 141])\nY = np.array([98, 110, 102, 96, 97, 93, 101, 90, -110, 91, 94, 105, 90])\nZ = np.array([56, 78, 96, 76, 69, 89, 61, 63, 60, 71, 68])\n\n# Шаг 1: Анализ данных на наличие грубых ошибок\n# Поскольку цена не может быть отрицательной, удалим отрицательное значение в выборке Y.\n# Проверим, есть ли отрицательные значения в выборке Y\nnegative_values_Y = Y[Y <= 0]\n\nif len(negative_values_Y) > 0:\n    print(\"Нулевые или отрицательные значения в выборке Y:\", negative_values_Y)\n\n# Удалим отрицательные значения из выборки Y\nY = Y[Y > 0]\n\n# Проверим, есть ли нулевые значения в выборке X\nzero_values_X = X[X <= 0]\n\nif len(zero_values_X) > 0:\n    print(\"Нулевые или отрицательные значения в выборке X:\", zero_values_X)\n\n# Удалим нулевые значения из выборки X\nX = X[X != 0]\n\n# Проверим, есть ли нулевые значения в выборке Z\nzero_values_Z = Z[Z <= 0]\n\nif len(zero_values_Z) > 0:\n    print(\"Нулевые или отрицательные  значения в выборке Z:\", zero_values_Z)\n\n# Удалим нулевые значения из выборки Z\nZ = Z[Z != 0]\n\n# Шаг 2: Применение статистического критерия для сравнения трех городов\n# Используем критерий Краскела-Уоллиса, так как у нас есть три выборки и мы хотим определить, есть ли статистически значимые различия между ними.\nstat, p_value = kruskal(X, Y, Z)\n\n# Вывод результатов\nif p_value < 0.05:\n    print(\"Существует статистически значимая разница в ценах на лекарство между городами.\")\n    if stat == 0:\n        print(\"Все выборки равны.\")\n    elif stat > 0:\n        if np.argmax([X.mean(), Y.mean(), Z.mean()]) == 0:\n            print(\"Наиболее выгодно покупать лекарство в Москве.\")\n        elif np.argmax([X.mean(), Y.mean(), Z.mean()]) == 1:\n            print(\"Наиболее выгодно покупать лекарство в Санкт-Петербурге.\")\n        else:\n            print(\"Наиболее выгодно покупать лекарство в Омске.\")\nelse:\n    print(\"Нет статистически значимой разницы в ценах на лекарство между городами.\")\n",
      "metadata": {
        "trusted": true
      },
      "execution_count": 8,
      "outputs": [
        {
          "name": "stdout",
          "text": "Нулевые или отрицательные значения в выборке Y: [-110]\nНулевые или отрицательные значения в выборке X: [0]\nСуществует статистически значимая разница в ценах на лекарство между городами.\nНаиболее выгодно покупать лекарство в Москве.\n",
          "output_type": "stream"
        }
      ]
    },
    {
      "cell_type": "code",
      "source": "",
      "metadata": {},
      "execution_count": null,
      "outputs": []
    }
  ]
}